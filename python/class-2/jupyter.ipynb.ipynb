{
 "cells": [
  {
   "cell_type": "code",
   "execution_count": null,
   "id": "aa7dec5e",
   "metadata": {},
   "outputs": [
    {
     "ename": "",
     "evalue": "",
     "output_type": "error",
     "traceback": [
      "\u001b[1;31mRunning cells with 'base (Python 3.13.6)' requires the ipykernel package.\n",
      "\u001b[1;31m<a href='command:jupyter.createPythonEnvAndSelectController'>Create a Python Environment</a> with the required packages.\n",
      "\u001b[1;31mOr install 'ipykernel' using the command: 'conda install -n base ipykernel --update-deps --force-reinstall'"
     ]
    }
   ],
   "source": [
    "print(\"hello\")"
   ]
  },
  {
   "cell_type": "code",
   "execution_count": null,
   "id": "1d57092b",
   "metadata": {
    "vscode": {
     "languageId": "markdown"
    }
   },
   "outputs": [
    {
     "ename": "",
     "evalue": "",
     "output_type": "error",
     "traceback": [
      "\u001b[1;31mRunning cells with 'base (Python 3.13.6)' requires the ipykernel package.\n",
      "\u001b[1;31m<a href='command:jupyter.createPythonEnvAndSelectController'>Create a Python Environment</a> with the required packages.\n",
      "\u001b[1;31mOr install 'ipykernel' using the command: 'conda install -n base ipykernel --update-deps --force-reinstall'"
     ]
    }
   ],
   "source": [
    "### Shortcut of jupyter shortcuts word\n",
    "- shift+enter--run the cell\n",
    "- ESC + a --> insert a cell up\n",
    "- ESC +b --> inset cell down \n",
    "- ESC + m --> to create a markdown cell\n",
    "- ESC + R --> to create a raw cell \n",
    "\n",
    "\n",
    "B"
   ]
  },
  {
   "cell_type": "markdown",
   "id": "33c32826",
   "metadata": {},
   "source": []
  },
  {
   "cell_type": "code",
   "execution_count": null,
   "id": "d99d58ee",
   "metadata": {
    "vscode": {
     "languageId": "markdown"
    }
   },
   "outputs": [],
   "source": [
    "print (\"CDE Colud data engineering\")"
   ]
  },
  {
   "cell_type": "code",
   "execution_count": null,
   "id": "d80d349a",
   "metadata": {
    "vscode": {
     "languageId": "markdown"
    }
   },
   "outputs": [],
   "source": [
    "### Veriable & Data types\n",
    "# this is name variable \n",
    "name = \"qayas\" # thi is a sting tyoe\n",
    "age = 35 # --> this interger type \n",
    "weight = 25.99 # -- > this is float type  \n",
    "prest = True/Fasle #-- >this Boolain type\n",
    "\n",
    "print ( types(name))\n",
    "print ( types(age))\n",
    "print ( types(weight))\n",
    "print ( types(present))\n"
   ]
  },
  {
   "cell_type": "code",
   "execution_count": null,
   "id": "f25b2aa0",
   "metadata": {
    "vscode": {
     "languageId": "markdown"
    }
   },
   "outputs": [],
   "source": [
    "age = age+2\n",
    "age = age-2\n",
    "age =-2\n",
    "\n"
   ]
  },
  {
   "cell_type": "code",
   "execution_count": null,
   "id": "eee51937",
   "metadata": {
    "vscode": {
     "languageId": "markdown"
    }
   },
   "outputs": [],
   "source": [
    "name = 'Qayas'"
   ]
  },
  {
   "cell_type": "code",
   "execution_count": null,
   "id": "00b32f41",
   "metadata": {
    "vscode": {
     "languageId": "markdown"
    }
   },
   "outputs": [],
   "source": [
    "name = [Qayas,rizwan,ect ]"
   ]
  },
  {
   "cell_type": "code",
   "execution_count": null,
   "id": "0b00e6ef",
   "metadata": {
    "vscode": {
     "languageId": "markdown"
    }
   },
   "outputs": [],
   "source": [
    "frist_name"
   ]
  },
  {
   "cell_type": "code",
   "execution_count": null,
   "id": "9c6fb008",
   "metadata": {
    "vscode": {
     "languageId": "markdown"
    }
   },
   "outputs": [],
   "source": [
    "Frist_name ='Qayas'\n",
    "last_name ='Abbasi'\n",
    "print (frist_name,last_name)\n",
    "print (f' full name is Qyas Abbasi {frist_name},{last_name}')\n"
   ]
  },
  {
   "cell_type": "code",
   "execution_count": null,
   "id": "f9217791",
   "metadata": {
    "vscode": {
     "languageId": "markdown"
    }
   },
   "outputs": [],
   "source": [
    "# condiation statment  IF ilef else\n",
    "\n",
    "food = 'biryani'/ beef palo/ ice cream\n",
    "if food == \"biryani\":\n",
    "    print('biryani with checken')\n",
    "elif food == \"ice cream\": \n",
    "    print(\" ice-creame\")\n",
    "else:\n",
    "      print(\"other wise  beef palo\")\n"
   ]
  },
  {
   "cell_type": "markdown",
   "id": "e54081c4",
   "metadata": {},
   "source": []
  },
  {
   "cell_type": "code",
   "execution_count": null,
   "id": "5b1381b9",
   "metadata": {
    "vscode": {
     "languageId": "markdown"
    }
   },
   "outputs": [],
   "source": [
    "num = 40\n",
    " if num >=30 (\"number is greater or equal  to 30\")\n",
    " else num    \n"
   ]
  }
 ],
 "metadata": {
  "kernelspec": {
   "display_name": "base",
   "language": "python",
   "name": "python3"
  },
  "language_info": {
   "name": "python",
   "version": "3.13.6"
  }
 },
 "nbformat": 4,
 "nbformat_minor": 5
}
