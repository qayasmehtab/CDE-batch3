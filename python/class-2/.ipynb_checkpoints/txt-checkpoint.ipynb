{
 "cells": [
  {
   "cell_type": "markdown",
   "id": "e13ae4d6-bb4e-40e2-b0b3-8633022d5c91",
   "metadata": {},
   "source": [
    "# Jupyter notebook shortcuts key"
   ]
  },
  {
   "cell_type": "markdown",
   "id": "6e811148-eed6-466e-98e3-47255728ed4e",
   "metadata": {},
   "source": [
    "# 1. Command Mode (Press Esc to enter)\n",
    "\n",
    "- Esc + A → Insert a new cell above\n",
    "\n",
    "- Esc + B → Insert a new cell below\n",
    "\n",
    "- Esc + D, D → Delete the selected cell (press D twice)\n",
    "\n",
    "- Esc + Z → Undo the last cell deletion\n",
    "\n",
    "- Esc + X → Cut the selected cell\n",
    "\n",
    "- Esc + C → Copy the selected cell\n",
    "\n",
    "- Esc + V → Paste cell below\n",
    "\n",
    "- Esc + Shift + V → Paste cell above\n",
    "\n",
    "- Esc + M → Change cell to Markdown\n",
    "\n",
    "- Esc + Y → Change cell to Code\n",
    "\n",
    "- Esc + 1–6 → Change cell to Heading 1–6 (Markdown mode)\n",
    "\n",
    "# 2. Edit Mode (Press Enter to enter)\n",
    "\n",
    "- Ctrl + Enter → Run the selected cell\n",
    "\n",
    "- Shift + Enter → Run cell and move to the next cell\n",
    "\n",
    "- Alt + Enter → Run cell and insert a new cell below\n",
    "\n",
    "- Tab → Code completion / suggestions\n",
    "\n",
    "- Shift + Tab → Show tooltip/documentation for function/method\n",
    "\n",
    "-Ctrl + / → Comment or uncomment selected code\n",
    "\n",
    "# 3. General\n",
    "\n",
    "Esc → Enter Command Mode\n",
    "\n",
    "Enter → Enter Edit Mode\n",
    "\n",
    "H → Show all keyboard shortcuts"
   ]
  },
  {
   "cell_type": "markdown",
   "id": "3e197211-0685-40d0-af6b-cab7abe5a25d",
   "metadata": {},
   "source": [
    "# Python prin  Statement Example"
   ]
  },
  {
   "cell_type": "code",
   "execution_count": 21,
   "id": "d2cc0e27-61ae-442a-bcfa-8fcee7e740db",
   "metadata": {},
   "outputs": [
    {
     "name": "stdout",
     "output_type": "stream",
     "text": [
      "Hello, Python!\n",
      "Welcome to python coding .\n"
     ]
    }
   ],
   "source": [
    "print(\"Hello, Python!\")\n",
    "print('Welcome to python coding .')"
   ]
  },
  {
   "cell_type": "markdown",
   "id": "0968cc96-06f9-4f10-9fd5-f4ffd459bee1",
   "metadata": {},
   "source": [
    "# Print single"
   ]
  },
  {
   "cell_type": "code",
   "execution_count": 22,
   "id": "4991f8dd-79b1-4d8a-92f1-7794cbb3921c",
   "metadata": {},
   "outputs": [
    {
     "name": "stdout",
     "output_type": "stream",
     "text": [
      "ALi\n",
      "25\n"
     ]
    }
   ],
   "source": [
    "name = \"ALi\"\n",
    "age =\"25\" \n",
    "print (name)\n",
    "print (age)"
   ]
  },
  {
   "cell_type": "markdown",
   "id": "237e9a57-7409-424b-a701-e67c22b28bce",
   "metadata": {},
   "source": [
    "# print with combain single line"
   ]
  },
  {
   "cell_type": "code",
   "execution_count": 23,
   "id": "82b11e58-808e-4f40-8b70-f5aaa71bab33",
   "metadata": {},
   "outputs": [
    {
     "name": "stdout",
     "output_type": "stream",
     "text": [
      "name: ALi  age: 25\n"
     ]
    }
   ],
   "source": [
    "name = \"ALi\"\n",
    "age =\"25\" \n",
    "print (\"name:\" , name, \" age:\",age)"
   ]
  },
  {
   "cell_type": "markdown",
   "id": "0a2eb725-1dfa-474f-bdf9-36f1bf342bb1",
   "metadata": {},
   "source": [
    "# Print Multiple times "
   ]
  },
  {
   "cell_type": "code",
   "execution_count": 24,
   "id": "5a2df033-1719-4471-b116-cf17521628b3",
   "metadata": {},
   "outputs": [
    {
     "name": "stdout",
     "output_type": "stream",
     "text": [
      "ALi\n",
      "25\n",
      "ALi\n",
      "25\n",
      "name: ALi  age: 25\n",
      "name : ALi age: 25\n"
     ]
    }
   ],
   "source": [
    "name = \"ALi\"\n",
    "age =\"25\" \n",
    "print (name)\n",
    "print (age) \n",
    "print (name)\n",
    "print (age)\n",
    "print(\"name:\" , name,\" age:\",age)\n",
    "print(\"name :\",  name, \"age:\",age)"
   ]
  },
  {
   "cell_type": "markdown",
   "id": "8dea27b1-1a68-4529-9216-946828adf132",
   "metadata": {},
   "source": [
    "#  1 String Data example "
   ]
  },
  {
   "cell_type": "code",
   "execution_count": 25,
   "id": "82e0aba8-bd66-45f4-9aa2-3959a5c148c0",
   "metadata": {},
   "outputs": [
    {
     "name": "stdout",
     "output_type": "stream",
     "text": [
      "Qayas 35\n"
     ]
    }
   ],
   "source": [
    "name = \"Qayas\"\n",
    "age=\"35\"\n",
    "print(name,age)"
   ]
  },
  {
   "cell_type": "markdown",
   "id": "7e9e483f-4f87-4b2a-a8c7-332b57cb45da",
   "metadata": {},
   "source": [
    "# f-string Data example"
   ]
  },
  {
   "cell_type": "code",
   "execution_count": 28,
   "id": "264295af-95ca-4864-8afb-f57dfffbea55",
   "metadata": {},
   "outputs": [
    {
     "name": "stdout",
     "output_type": "stream",
     "text": [
      "Total weight is 48.05 kg\n"
     ]
    }
   ],
   "source": [
    "weight = 45.50\n",
    "extra = 2.55\n",
    "total_weight = weight + extra\n",
    "print(f\"Total weight is {total_weight} kg\")"
   ]
  },
  {
   "cell_type": "markdown",
   "id": "e803d9a8-1f2f-4849-b4a9-4ee1f5050331",
   "metadata": {},
   "source": [
    "# 2 Integer Data example"
   ]
  },
  {
   "cell_type": "code",
   "execution_count": 26,
   "id": "d9059476-03bb-4d42-9e37-8cfefc67a8b9",
   "metadata": {},
   "outputs": [
    {
     "name": "stdout",
     "output_type": "stream",
     "text": [
      "50\n"
     ]
    }
   ],
   "source": [
    "a = 45\n",
    "b = 5\n",
    "print(a+b)"
   ]
  },
  {
   "cell_type": "markdown",
   "id": "67f8ed95-3a2b-4d48-abc0-23aeaa067c3f",
   "metadata": {},
   "source": [
    "# 3 Floating Data example"
   ]
  },
  {
   "cell_type": "code",
   "execution_count": 27,
   "id": "a99c48e4-13ed-4e16-8802-ab9e4e28106b",
   "metadata": {},
   "outputs": [
    {
     "name": "stdout",
     "output_type": "stream",
     "text": [
      "5.5 kg\n"
     ]
    }
   ],
   "source": [
    "weight = 5.50\n",
    "print(weight, \"kg\")"
   ]
  },
  {
   "cell_type": "markdown",
   "id": "467a009e-5400-477b-827f-5ad4aec8b2ca",
   "metadata": {},
   "source": [
    "# 4 Boolean Data example"
   ]
  },
  {
   "cell_type": "code",
   "execution_count": 17,
   "id": "f096d02f-76a1-44a9-b009-017a5843614d",
   "metadata": {},
   "outputs": [
    {
     "name": "stdout",
     "output_type": "stream",
     "text": [
      "Fruits: ['Apple', 'Banana', 'Cherry']\n",
      "Apple Banana Cherry , \n"
     ]
    }
   ],
   "source": [
    "fruits = [\"Apple\", \"Banana\", \"Cherry\"]\n",
    "print(\"Fruits:\", fruits)\n",
    "print(*fruits,\", \")\n"
   ]
  },
  {
   "cell_type": "markdown",
   "id": "bb9cef71-529c-414c-8ad3-bd95f6cef28c",
   "metadata": {},
   "source": [
    "# Print with Loops"
   ]
  },
  {
   "cell_type": "code",
   "execution_count": 18,
   "id": "48a092f7-b6cd-4844-8bc8-32d55c5a8c25",
   "metadata": {},
   "outputs": [
    {
     "name": "stdout",
     "output_type": "stream",
     "text": [
      "Number: 1\n",
      "Number: 2\n",
      "Number: 3\n",
      "Number: 4\n",
      "Number: 5\n"
     ]
    }
   ],
   "source": [
    "for i in range(1, 6):\n",
    "    print(f\"Number: {i}\")"
   ]
  },
  {
   "cell_type": "markdown",
   "id": "eafe1387-21f0-471f-9a11-3bd12463a750",
   "metadata": {},
   "source": [
    "# Print with Conditions statement !"
   ]
  },
  {
   "cell_type": "code",
   "execution_count": 36,
   "id": "8e91b480-fc7c-45bb-8e28-6bb914993a55",
   "metadata": {},
   "outputs": [
    {
     "name": "stdout",
     "output_type": "stream",
     "text": [
      "You are an adult.\n"
     ]
    }
   ],
   "source": [
    "age = 18\n",
    "if age < 13:\n",
    "    print(\"You are a child.\")\n",
    "elif 13 <= age < 18:\n",
    "    print(\"You are a teenager.\")\n",
    "elif age >= 18 and age < 60:\n",
    "    print(\"You are an adult.\")\n",
    "else:\n",
    "    print(\"You are a senior citizen.\")"
   ]
  },
  {
   "cell_type": "code",
   "execution_count": 38,
   "id": "a2083d30-a947-44d9-ac2b-558a72cb841d",
   "metadata": {},
   "outputs": [
    {
     "name": "stdout",
     "output_type": "stream",
     "text": [
      "You are a teenager.\n"
     ]
    }
   ],
   "source": [
    "age = 17\n",
    "if age < 13:\n",
    "    print(\"You are a child.\")\n",
    "elif 13 <= age < 18:\n",
    "    print(\"You are a teenager.\")\n",
    "elif age >= 18 and age < 60:\n",
    "    print(\"You are an adult.\")\n",
    "else:\n",
    "    print(\"You are a senior citizen.\")"
   ]
  },
  {
   "cell_type": "code",
   "execution_count": 39,
   "id": "ed4df1e6-76b0-4324-9d1b-f00c5d0b6888",
   "metadata": {},
   "outputs": [
    {
     "name": "stdout",
     "output_type": "stream",
     "text": [
      "You are a child.\n"
     ]
    }
   ],
   "source": [
    "age = 12\n",
    "if age < 13:\n",
    "    print(\"You are a child.\")\n",
    "elif 13 <= age < 18:\n",
    "    print(\"You are a teenager.\")\n",
    "elif age >= 18 and age < 60:\n",
    "    print(\"You are an adult.\")\n",
    "else:\n",
    "    print(\"You are a senior citizen.\")"
   ]
  }
 ],
 "metadata": {
  "kernelspec": {
   "display_name": "Python 3 (ipykernel)",
   "language": "python",
   "name": "python3"
  },
  "language_info": {
   "codemirror_mode": {
    "name": "ipython",
    "version": 3
   },
   "file_extension": ".py",
   "mimetype": "text/x-python",
   "name": "python",
   "nbconvert_exporter": "python",
   "pygments_lexer": "ipython3",
   "version": "3.13.5"
  }
 },
 "nbformat": 4,
 "nbformat_minor": 5
}
