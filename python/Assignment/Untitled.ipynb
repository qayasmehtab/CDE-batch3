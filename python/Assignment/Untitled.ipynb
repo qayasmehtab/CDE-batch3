{
 "cells": [
  {
   "cell_type": "markdown",
   "id": "12d470fa-482e-4831-8d87-d73bcfae3588",
   "metadata": {},
   "source": [
    "## Q1 Print Your Name with your Father’s name and Date of Birth using suitable escape sequence characters."
   ]
  },
  {
   "cell_type": "code",
   "execution_count": 1,
   "id": "14dcbe99-40f7-457b-9ac8-f7316d595a7f",
   "metadata": {},
   "outputs": [
    {
     "name": "stdout",
     "output_type": "stream",
     "text": [
      "Name: Qayas Mehtab\n",
      "Father,s Name : Muhammad Mehtab Abbasi\n",
      "Date of Brithday: 06-Dec-1990\n",
      "Name: Qayas | Father's Name: Muhammad Mehtab Abbasi | DOB: 06-Dec-1990\n",
      "Name: Qayas Father'Name: Muhammad Mehtab Abbasi DOB: 06-Dec-1990\n"
     ]
    }
   ],
   "source": [
    "Name = \"Qayas Mehtab\"\n",
    "Father_Name = \"Muhammad Mehtab Abbasi\"\n",
    "DOB = \"06-Dec-1990\"\n",
    "print(\"Name:\", Name)\n",
    "print(\"Father,s Name :\", Father_Name)\n",
    "print(\"Date of Brithday:\", DOB)\n",
    "Name = \"Qayas\"\n",
    "Father_Name = \"Muhammad Mehtab Abbasi\"\n",
    "DOB = \"06-Dec-1990\"\n",
    "print(\"Name:\", Name, \"| Father's Name:\", Father_Name, \"| DOB:\", DOB)\n",
    "print(\"Name:\", Name, \"Father'Name:\", Father_Name, \"DOB:\", DOB)"
   ]
  },
  {
   "cell_type": "markdown",
   "id": "c9b37ab1-b1c6-4910-a04f-42c0a8c54bee",
   "metadata": {},
   "source": [
    "# Q2 Write your small bio using variables and print it using print function."
   ]
  },
  {
   "cell_type": "code",
   "execution_count": 2,
   "id": "94152d83-1d68-4b31-9048-8c7e2a243f14",
   "metadata": {},
   "outputs": [
    {
     "name": "stdout",
     "output_type": "stream",
     "text": [
      "-----My Bio-----\n",
      "Name: Qayas Mehtab\n",
      "Father's Name: Muhammad Mehtab Abbasi\n",
      "DOB: 06-Dec-1990\n",
      "Country: Pakistan\n",
      "Profession: Bykea Rider,Learning Backend Cloud data engineering \n",
      "hubby: Cricket,Treveling,and learning Devops/Cloud\n"
     ]
    }
   ],
   "source": [
    "Name = \"Qayas Mehtab\"\n",
    "Father_Name = \"Muhammad Mehtab Abbasi\"\n",
    "DOB =\"06-Dec-1990\"\n",
    "Country =\"Pakistan\"\n",
    "Profession = \"Bykea Rider,Learning Backend Cloud data engineering \"\n",
    "hubby = \"Cricket,Treveling,and learning Devops/Cloud\"\n",
    "print(\"-----My Bio-----\")\n",
    "print(\"Name:\", Name)\n",
    "print(\"Father's Name:\", Father_Name)\n",
    "print(\"DOB:\", DOB)\n",
    "print(\"Country:\", Country)\n",
    "print(\"Profession:\", Profession)\n",
    "print(\"hubby:\", hubby)"
   ]
  },
  {
   "cell_type": "markdown",
   "id": "42413b1d-73ad-4cc0-88e5-0946621a86b7",
   "metadata": {},
   "source": [
    "# Q3 Write a program in which use all the operators we can use in Python”.\n",
    "- (a) Arithmetic\n",
    "- (b) Comparison\n",
    "- (c) Assignment\n",
    "- (d) Logical\n",
    "- (e) Bitwise\n",
    "- (f) Membership\n",
    "- (g) Identity"
   ]
  },
  {
   "cell_type": "code",
   "execution_count": 3,
   "id": "2a4d2e91-e688-41f4-affb-c725e040cfcc",
   "metadata": {},
   "outputs": [
    {
     "name": "stdout",
     "output_type": "stream",
     "text": [
      "-----Arthmetic Operator-----\n",
      "Addition:  22\n",
      "Subtraction: 12\n",
      "Multiplication: 85\n",
      "Division: 3.4\n",
      "Floor Division: 3\n",
      "Modulus: 2\n",
      "Expenont: 1419857\n",
      "-----Comparsion Operator\n",
      "Equal:  False\n",
      "Not Equal: True\n",
      "Greater then: True\n",
      "Less then: False\n",
      "Greater or Equal: True\n",
      "Less or Eqal: False\n",
      "----- Assignment Operators -----\n",
      "x += 2 -> 7\n",
      "x -= 1 -> 6\n",
      "x *= 3 -> 18\n",
      "x /= 2 -> 9.0\n",
      "x //= 2 -> 4.0\n",
      "x %= 2 -> 0.0\n",
      "x **= 3 -> 0.0\n",
      "-----Logical Operator-----\n",
      "p and q -> False\n",
      "p or q -> True\n",
      "p not q -> True\n",
      "----- Bitwise Operators -----\n",
      "A & B->: 1\n",
      "A | B->: 21\n",
      "A ^ B - > 20\n",
      "A ^ B -> 20\n",
      "A << 1 -> 34\n",
      "A >> 1 -> 8\n",
      "----- Membership Operators -----\n",
      "A in List1 -> False\n",
      "B in not List1 -> True\n",
      "-----Indentity Operator-----\n",
      "A is C ->  False\n",
      "A is not B -> True\n"
     ]
    }
   ],
   "source": [
    "A = 17\n",
    "B = 5\n",
    "print(\"-----Arthmetic Operator-----\")\n",
    "print(\"Addition: \" ,A+B)             \n",
    "print(\"Subtraction:\" ,A-B)           \n",
    "print(\"Multiplication:\" ,A*B)        \n",
    "print(\"Division:\" ,A/B)              \n",
    "print(\"Floor Division:\" , A//B)      \n",
    "print(\"Modulus:\" , A%B)              \n",
    "print(\"Expenont:\" ,A**B)             \n",
    "print(\"-----Comparsion Operator\")\n",
    "print(\"Equal: \" , A==B)\n",
    "print(\"Not Equal:\" , A!=B)\n",
    "print(\"Greater then:\" , A > B)\n",
    "print(\"Less then:\" , A < B)\n",
    "print(\"Greater or Equal:\" , A >= B)\n",
    "print(\"Less or Eqal:\" , A <=B)\n",
    "print(\"----- Assignment Operators -----\")\n",
    "x = 5\n",
    "x += 2\n",
    "print(\"x += 2 ->\", x)\n",
    "x -= 1\n",
    "print(\"x -= 1 ->\", x)\n",
    "x *= 3\n",
    "print(\"x *= 3 ->\", x)\n",
    "x /= 2\n",
    "print(\"x /= 2 ->\", x)\n",
    "x //= 2\n",
    "print(\"x //= 2 ->\", x)\n",
    "x %= 2\n",
    "print(\"x %= 2 ->\", x)\n",
    "x **= 3\n",
    "print(\"x **= 3 ->\", x)\n",
    "print(\"-----Logical Operator-----\")\n",
    "p = True\n",
    "q = False\n",
    "print(\"p and q ->\", p and q)\n",
    "print(\"p or q ->\", p or q)\n",
    "print(\"p not q ->\",  not q)\n",
    "print(\"----- Bitwise Operators -----\")\n",
    "print(\"A & B->:\", A & B)\n",
    "print(\"A | B->:\", A|B)\n",
    "print(\"A ^ B - >\" , A^B)\n",
    "print(\"A ^ B ->\", A ^ B)\n",
    "print(\"A << 1 ->\", A << 1)\n",
    "print(\"A >> 1 ->\", A >> 1)\n",
    "print(\"----- Membership Operators -----\")\n",
    "List1 = [1,3,5,7,10]\n",
    "print(\"A in List1 ->\", A in List1)\n",
    "print(\"B in not List1 ->\", B in List1)\n",
    "print(\"-----Indentity Operator-----\")\n",
    "C = 60\n",
    "print(\"A is C -> \",  A is C)\n",
    "print(\"A is not B ->\", A is not B)"
   ]
  },
  {
   "cell_type": "markdown",
   "id": "567e9e7c-6370-4cd5-b492-c1ebb48225c3",
   "metadata": {},
   "source": [
    "# Q4 Calculate Percentage of Marks\n",
    ". Completes the following steps of small task:\n",
    "- Mention Marks of English, Islamiat and Maths out of 100 in 3 different variables\n",
    "- Mention Variable of Total Marks and assign 300 to it\n",
    "- Calculate Percentage"
   ]
  },
  {
   "cell_type": "code",
   "execution_count": 4,
   "id": "4a66cdef-a9f2-4e8b-b910-ccef8600f8eb",
   "metadata": {},
   "outputs": [
    {
     "name": "stdout",
     "output_type": "stream",
     "text": [
      "TotalMarks: 300\n",
      "Obtained: 220\n",
      "Percentage: 73.33333333333333 %\n"
     ]
    }
   ],
   "source": [
    "English = 70\n",
    "Math = 65\n",
    "Islamiat = 85\n",
    "TotalMarks = 300\n",
    "Obtained = English + Math + Islamiat\n",
    "Percentage =(Obtained/TotalMarks)*100\n",
    "print(\"TotalMarks:\" ,TotalMarks)\n",
    "print(\"Obtained:\" ,Obtained)\n",
    "print(\"Percentage:\" ,Percentage, \"%\")"
   ]
  },
  {
   "cell_type": "markdown",
   "id": "7fb4368b-bf36-4be7-b46a-53d608ec7ae9",
   "metadata": {},
   "source": [
    "# Q5 A company decided to give bonus of 5% to employee if his/her year of service is more than 5 years. Ask user for their salary and year of service and print the net bonus amount."
   ]
  },
  {
   "cell_type": "code",
   "execution_count": 5,
   "id": "2399bb3d-6f14-40c8-8ef8-f71b8b48c812",
   "metadata": {},
   "outputs": [
    {
     "name": "stdin",
     "output_type": "stream",
     "text": [
      "Enter your salary:  50000\n",
      "Enter year of eperience:  6\n"
     ]
    },
    {
     "name": "stdout",
     "output_type": "stream",
     "text": [
      "Congratulation you recieved 2500.0 Bonus amount\n"
     ]
    }
   ],
   "source": [
    "salary = int(input(\"Enter your salary: \"))\n",
    "year_exp = int(input(\"Enter year of eperience: \"))\n",
    "\n",
    "if year_exp>5:\n",
    "    bonus_amn = (salary*5)/100\n",
    "    conv = str(bonus_amn)\n",
    "    print(\"Congratulation you recieved \" + conv + \" Bonus amount\")\n",
    "else:\n",
    "    print(\"You didn't get a bonus\")"
   ]
  },
  {
   "cell_type": "markdown",
   "id": "0d9af2cc-2776-4d93-8865-f284a5b92643",
   "metadata": {},
   "source": [
    "# Q6 Write a program to check whether a person is eligible for voting or not. (accept age from user) if age is greater than 17 eligible otherwise not eligible."
   ]
  },
  {
   "cell_type": "code",
   "execution_count": 6,
   "id": "6d20a1d1-e218-4b37-a451-c4242185e897",
   "metadata": {},
   "outputs": [
    {
     "name": "stdin",
     "output_type": "stream",
     "text": [
      "Enter your age: 18\n"
     ]
    },
    {
     "name": "stdout",
     "output_type": "stream",
     "text": [
      "Eligible\n"
     ]
    }
   ],
   "source": [
    "age =int(input(\"Enter your age:\"))\n",
    "if age >17:\n",
    "    print(\"Eligible\")\n",
    "else:\n",
    "    print(\"Not Eligible\")"
   ]
  },
  {
   "cell_type": "markdown",
   "id": "47998c7e-8b1c-4c2b-8370-b5b07ade98d9",
   "metadata": {},
   "source": [
    "# Q7 Write a program to check whether a number entered by user is even or odd."
   ]
  },
  {
   "cell_type": "code",
   "execution_count": 7,
   "id": "658b269e-9cde-46fd-a349-5d9d022ef5ab",
   "metadata": {},
   "outputs": [
    {
     "name": "stdin",
     "output_type": "stream",
     "text": [
      "Enter a number: 3\n"
     ]
    },
    {
     "name": "stdout",
     "output_type": "stream",
     "text": [
      "3 is Odd\n"
     ]
    }
   ],
   "source": [
    "num = int(input(\"Enter a number:\"))\n",
    "\n",
    "if num % 2 == 0:\n",
    "    print(num, \"is Even\")\n",
    "else:\n",
    "    print(num, \"is Odd\")"
   ]
  },
  {
   "cell_type": "markdown",
   "id": "a5bef2db-57a1-4969-b4fe-dda1d74dd364",
   "metadata": {},
   "source": [
    "# Q8 Write a program to check whether a number is divisible by 7 or not."
   ]
  },
  {
   "cell_type": "code",
   "execution_count": 8,
   "id": "1de4acef-76b7-466e-bed4-e1e635739113",
   "metadata": {},
   "outputs": [
    {
     "name": "stdin",
     "output_type": "stream",
     "text": [
      "Enter a Number: 3\n"
     ]
    },
    {
     "name": "stdout",
     "output_type": "stream",
     "text": [
      "in not divisible by 7,\n"
     ]
    }
   ],
   "source": [
    "num =int(input(\"Enter a Number:\" ))\n",
    "if num % 7==0:\n",
    "    print(f\"(num) is divisible by 7,\")\n",
    "else:\n",
    "    print(\"in not divisible by 7,\")"
   ]
  },
  {
   "cell_type": "markdown",
   "id": "6ed24536-19a3-4c89-82d9-038460c3b929",
   "metadata": {},
   "source": [
    "# Q9 Write a program to display 'Hello' if a number entered by user is a multiple of five, otherwise print 'Bye'."
   ]
  },
  {
   "cell_type": "code",
   "execution_count": 9,
   "id": "cc06b6b6-5a96-4db8-92d7-dc9a16dddab5",
   "metadata": {},
   "outputs": [
    {
     "name": "stdin",
     "output_type": "stream",
     "text": [
      "Enter a NUmber: 5\n"
     ]
    },
    {
     "name": "stdout",
     "output_type": "stream",
     "text": [
      "Hello\n"
     ]
    }
   ],
   "source": [
    "num = int(input(\"Enter a NUmber:\"))\n",
    "if num %5==0:\n",
    "    print(\"Hello\")\n",
    "else:\n",
    "    print(\"Bye\")"
   ]
  },
  {
   "cell_type": "markdown",
   "id": "ffc96489-fcea-43b7-8e14-03b4d5cca370",
   "metadata": {},
   "source": [
    "# Q 10 Write a program to calculate the electricity bill (accept number of unit from user) according to the following criteria:\n",
    "   - upto 100 units: no charge\n",
    "   - Next 200 units: Rs 5 per unit\n",
    "   - After 200 units: Rs 10 per unit\n",
    "   # For example:\n",
    "   - If input unit is 350, total bill amount is Rs. 3500\n",
    "   - If input unit is 97, total bill amount is Rs. 0\n",
    "   - If input unit is 150, total bill amount is Rs. 750"
   ]
  },
  {
   "cell_type": "code",
   "execution_count": 10,
   "id": "f9af17b8-8212-42a8-81d7-877ab7195d97",
   "metadata": {},
   "outputs": [
    {
     "name": "stdin",
     "output_type": "stream",
     "text": [
      "Enter of unit number: 350\n"
     ]
    },
    {
     "name": "stdout",
     "output_type": "stream",
     "text": [
      "Total bill amount is Rs.3500\n"
     ]
    }
   ],
   "source": [
    "num_unit=int(input(\"Enter of unit number:\"))\n",
    "if num_unit ==350:\n",
    "    print(\"Total bill amount is Rs.3500\")\n",
    "elif num_unit==150:\n",
    "    print(\"Total bill amount is Rs.750\")\n",
    "elif num_unit== 97:\n",
    "    print(\"Total bill amount is Rs.0\")\n",
    "else:\n",
    "    print(\"invalid\")"
   ]
  },
  {
   "cell_type": "markdown",
   "id": "ccefd96e-1b69-4fec-8aab-4e0efb1b3b73",
   "metadata": {},
   "source": [
    "# Q 11 Write a program to display the last digit of a number."
   ]
  },
  {
   "cell_type": "code",
   "execution_count": 11,
   "id": "3c37c2de-ec4e-4f7a-b259-788882a9179e",
   "metadata": {},
   "outputs": [
    {
     "data": {
      "text/plain": [
       "'9'"
      ]
     },
     "execution_count": 11,
     "metadata": {},
     "output_type": "execute_result"
    }
   ],
   "source": [
    "num = 53509\n",
    "conv = str(num)\n",
    "conv[4]"
   ]
  },
  {
   "cell_type": "markdown",
   "id": "a92246f9-1bb4-4cf9-8152-b6121f18d1d1",
   "metadata": {},
   "source": [
    "# 12 Take values of length and breadth of a rectangle from user and print if it is square or rectangle."
   ]
  },
  {
   "cell_type": "code",
   "execution_count": 12,
   "id": "6d9f1802-8cd7-4984-9e35-d5bf50f81ccf",
   "metadata": {},
   "outputs": [
    {
     "name": "stdin",
     "output_type": "stream",
     "text": [
      "Enter Length:  33\n",
      "Enter breadth:  24\n"
     ]
    },
    {
     "name": "stdout",
     "output_type": "stream",
     "text": [
      "It's rectangle\n"
     ]
    }
   ],
   "source": [
    "length = float(input(\"Enter Length: \"))\n",
    "breadth = float(input(\"Enter breadth: \"))\n",
    "\n",
    "if length == breadth:\n",
    "    print(\"It's square\")\n",
    "elif length != breadth:\n",
    "    print(\"It's rectangle\")\n",
    "else:\n",
    "    print(\"Invalid input\")"
   ]
  },
  {
   "cell_type": "markdown",
   "id": "c99e4991-e8a0-4ab5-9513-034a37edd855",
   "metadata": {},
   "source": [
    "# Q13 Take two int values from user and print greatest among them."
   ]
  },
  {
   "cell_type": "code",
   "execution_count": 13,
   "id": "00541cf8-fc12-4a82-9283-eb2a1b1cd673",
   "metadata": {},
   "outputs": [
    {
     "name": "stdin",
     "output_type": "stream",
     "text": [
      "Enter number 1:  2\n",
      "Enter number 2:  1\n"
     ]
    },
    {
     "name": "stdout",
     "output_type": "stream",
     "text": [
      "Number 1 is greater\n"
     ]
    }
   ],
   "source": [
    "num1 = int(input(\"Enter number 1: \"))\n",
    "num2 = int(input(\"Enter number 2: \"))\n",
    "if num1 > num2:\n",
    "    print(\"Number 1 is greater\")\n",
    "else:\n",
    "    print(\"Number 2 is greater\")"
   ]
  },
  {
   "cell_type": "markdown",
   "id": "a38ed55e-21a7-4359-a826-0a6cb6cac70d",
   "metadata": {},
   "source": [
    "# Q14 16. A shop will give discount of 10% if the cost of purchased quantity is more than 1000. Ask user for quantity. Suppose, one unit will cost 100. Judge and print total cost for user."
   ]
  },
  {
   "cell_type": "code",
   "execution_count": 14,
   "id": "9a6e18fe-138d-4b80-98d1-78b0f3c4c5a0",
   "metadata": {},
   "outputs": [
    {
     "name": "stdout",
     "output_type": "stream",
     "text": [
      "---------------------------------------------------Welcome to Bakers Shop------------------------------------------------------------------\n",
      "----------------------------------------------------------Rate List-----------------------------------------------------------------------\n",
      "-----------------------------------Rusk = 100, Bread = 100, Chips = 100, drink = 100, biscuit = 100---------------------------------\n"
     ]
    },
    {
     "name": "stdin",
     "output_type": "stream",
     "text": [
      "Enter packet of rusk:  1\n",
      "Enter packet of bread:  2\n",
      "Enter packet of chips:  1\n",
      "Enter bottle of drink amount:  3\n",
      "Enter packet of biscuit:  4\n"
     ]
    },
    {
     "name": "stdout",
     "output_type": "stream",
     "text": [
      "You have got 10% discount, and the amount of discount is Rs 110.0 now your bill is Rs 990.0 and previous one was Rs 1100\n"
     ]
    }
   ],
   "source": [
    "rusk = 100\n",
    "bread = 100\n",
    "chips = 100\n",
    "drink = 100\n",
    "biscuit = 100\n",
    "print(\"---------------------------------------------------Welcome to Bakers Shop------------------------------------------------------------------\")\n",
    "print(\"----------------------------------------------------------Rate List-----------------------------------------------------------------------\")\n",
    "print(\"-----------------------------------Rusk = 100, Bread = 100, Chips = 100, drink = 100, biscuit = 100---------------------------------\")\n",
    "quant_rusk = int(input(\"Enter packet of rusk: \"))\n",
    "quant_bread = int(input(\"Enter packet of bread: \"))\n",
    "quant_chips = int(input(\"Enter packet of chips: \"))\n",
    "quant_drink = int(input(\"Enter bottle of drink amount: \"))\n",
    "quant_biscuit = int(input(\"Enter packet of biscuit: \"))\n",
    "cost_rusk = quant_rusk*rusk\n",
    "cost_bread = quant_bread*bread\n",
    "cost_chips = quant_chips*chips\n",
    "cost_drink = quant_drink*drink\n",
    "cost_biscuit = quant_biscuit*biscuit\n",
    "total_amount = cost_rusk + cost_bread + cost_chips + cost_drink + cost_biscuit\n",
    "if total_amount >= 1000:\n",
    "    discount_amount = (total_amount*10)/100\n",
    "    discount = total_amount - discount_amount\n",
    "    conv_discount1 = str(discount)\n",
    "    conv_discount = str(discount_amount)\n",
    "    conv_ta = str(total_amount)\n",
    "    print(\"You have got 10% discount, and the amount of discount is Rs \" + conv_discount + \" now your bill is Rs \" + conv_discount1 + \" and previous one was Rs \" + conv_ta)\n",
    "else:\n",
    "    conv_ta = str(total_amount)\n",
    "    print(\"Your bill is \" + conv_ta + \" and you didn't get discount\")"
   ]
  },
  {
   "cell_type": "markdown",
   "id": "929e3834-697c-4f37-b78c-cc3030d9c219",
   "metadata": {},
   "source": [
    "# Q 17 A school has following rules for grading system.\n",
    "- a. Below 25 - F\n",
    "- b. 25 to 45 - E\n",
    "- c. 45 to 50 - D\n",
    "- d. 50 to 60 - C\n",
    "- e. 60 to 80 - B\n",
    "- f. Above 80 - A\n",
    "-  Ask user to enter marks and print the corresponding grade.\n"
   ]
  },
  {
   "cell_type": "code",
   "execution_count": 15,
   "id": "ec03ca8e-eea6-4cc9-8fcc-263af77892e6",
   "metadata": {},
   "outputs": [
    {
     "name": "stdin",
     "output_type": "stream",
     "text": [
      "Enter marks:  65\n"
     ]
    },
    {
     "name": "stdout",
     "output_type": "stream",
     "text": [
      "Your grade is B\n"
     ]
    }
   ],
   "source": [
    "marks = int(input(\"Enter marks: \"))\n",
    "if marks>=0 and marks<=25:\n",
    "    print(\"Your grade is F\")\n",
    "elif marks>=26 and marks<=45:\n",
    "    print(\"Your grade is E\")\n",
    "elif marks>=46 and marks<=50:\n",
    "    print(\"Your grade is D\")\n",
    "elif marks>=51 and marks<=60:\n",
    "    print(\"Your grade is C\")\n",
    "elif marks>=61 and marks<=80:\n",
    "    print(\"Your grade is B\")\n",
    "elif marks>=81 and marks<=100:\n",
    "    print(\"Your grade is A\")\n",
    "else:\n",
    "    print(\"Invaid input\")"
   ]
  },
  {
   "cell_type": "markdown",
   "id": "c2f479d0-04ce-478d-981f-fdc6071671b7",
   "metadata": {},
   "source": [
    "# Q 18 Take input of age of 3 people by user and determine oldest and youngest among them.\n"
   ]
  },
  {
   "cell_type": "code",
   "execution_count": 17,
   "id": "96d88216-0a0d-40e4-90b7-c98e469a37bd",
   "metadata": {},
   "outputs": [
    {
     "name": "stdin",
     "output_type": "stream",
     "text": [
      "Enter age 1:  2\n",
      "Enter age 2:  1\n",
      "Enter age 3:  3\n"
     ]
    },
    {
     "name": "stdout",
     "output_type": "stream",
     "text": [
      "Oldest 1 is 3rd person\n",
      "Yongest 1 is 2nd person\n"
     ]
    }
   ],
   "source": [
    "age1 = int(input(\"Enter age 1: \"))\n",
    "age2 = int(input(\"Enter age 2: \"))\n",
    "age3 = int(input(\"Enter age 3: \"))\n",
    "\n",
    "if age1>age2:\n",
    "    if age1>age3:\n",
    "        print(\"Oldest 1 is 1st person\")\n",
    "    else:\n",
    "        print(\"Oldest 1 is 3rd person\")\n",
    "else:\n",
    "    print(\"Oldest 1 is 2nd person\")\n",
    "\n",
    "if age1<age2:\n",
    "    if age1<age3:\n",
    "        print(\"Yongest 1 is 1st person\")\n",
    "    else:\n",
    "        print(\"Yongest 1 is 3rd person\")\n",
    "else:\n",
    "    print(\"Yongest 1 is 2nd person\")"
   ]
  },
  {
   "cell_type": "markdown",
   "id": "a19d4a3c-8a8b-4f17-aa58-b352fcd20cd3",
   "metadata": {},
   "source": [
    "# Q19 Modify the above question to allow student to sit if he/she has medical cause. Ask user if he/she has medical cause or not ( 'Y' or 'N' ) and print accordingly."
   ]
  },
  {
   "cell_type": "code",
   "execution_count": 23,
   "id": "c4fbe200-67aa-49fd-bf1d-0f0da4e50cff",
   "metadata": {},
   "outputs": [
    {
     "name": "stdin",
     "output_type": "stream",
     "text": [
      "Enter your Attendace percentage: 65\n",
      "do you have Medial cause? (Y/N):  y\n"
     ]
    },
    {
     "name": "stdout",
     "output_type": "stream",
     "text": [
      "sit in exame due to Medial cause\n"
     ]
    }
   ],
   "source": [
    "Attendance= int(input(\"Enter your Attendace percentage:\" ))\n",
    "Medical=input(\"do you have Medial cause? (Y/N): \")\n",
    "if Attendance  >= 75:\n",
    "    print(\"Allow sit in exame\")\n",
    "elif Medical.upper() ==  \"Y\":\n",
    "    print(\"sit in exame due to Medial cause\")\n",
    "else:\n",
    "   print(\"NOt allow to sit in exame\")         \n",
    "                   \n"
   ]
  },
  {
   "cell_type": "markdown",
   "id": "fb1e1bd1-d120-4415-81b8-90c69501e2ac",
   "metadata": {},
   "source": [
    "# Q20  Write a program to check if a year is leap year or not. If a year is divisible by 4 then it is leap year but if the year is century year like 2000, 1900, 2100 then it must be divisible by 400."
   ]
  },
  {
   "cell_type": "code",
   "execution_count": 38,
   "id": "c4e48182-65ea-40a0-8c05-fededb1d6192",
   "metadata": {},
   "outputs": [
    {
     "name": "stdin",
     "output_type": "stream",
     "text": [
      "Enter a year:  2000\n"
     ]
    },
    {
     "name": "stdout",
     "output_type": "stream",
     "text": [
      "2000 is leap year\n"
     ]
    }
   ],
   "source": [
    "year=int(input(\"Enter a year: \"))\n",
    "if (year % 400 == 0):\n",
    "    print(f\"{year} is leap year\")\n",
    "elif(year % 100 ==0):\n",
    "    print(f\"{year} is not leap year\")\n",
    "elif(year % 4 == 0):\n",
    "    print(f\"{year} is leap year\")\n",
    "else:\n",
    "    print(f\"{year} is not leap year\")"
   ]
  },
  {
   "cell_type": "code",
   "execution_count": null,
   "id": "81b64eda-9bf1-43e4-8aa0-b697ff93d54a",
   "metadata": {},
   "outputs": [],
   "source": []
  }
 ],
 "metadata": {
  "kernelspec": {
   "display_name": "Python 3 (ipykernel)",
   "language": "python",
   "name": "python3"
  },
  "language_info": {
   "codemirror_mode": {
    "name": "ipython",
    "version": 3
   },
   "file_extension": ".py",
   "mimetype": "text/x-python",
   "name": "python",
   "nbconvert_exporter": "python",
   "pygments_lexer": "ipython3",
   "version": "3.13.5"
  }
 },
 "nbformat": 4,
 "nbformat_minor": 5
}
