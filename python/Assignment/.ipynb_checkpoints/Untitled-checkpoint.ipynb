{
 "cells": [
  {
   "cell_type": "markdown",
   "id": "12d470fa-482e-4831-8d87-d73bcfae3588",
   "metadata": {},
   "source": [
    "## Q1 Print Your Name with your Father’s name and Date of Birth using suitable escape sequence characters."
   ]
  },
  {
   "cell_type": "code",
   "execution_count": 150,
   "id": "14dcbe99-40f7-457b-9ac8-f7316d595a7f",
   "metadata": {},
   "outputs": [
    {
     "name": "stdout",
     "output_type": "stream",
     "text": [
      "Name: Qayas Mehtab\n",
      "Father,s Name : Muhammad Mehtab Abbasi\n",
      "Date of Brithday: 06-Dec-1990\n",
      "Name: Qayas | Father's Name: Muhammad Mehtab Abbasi | DOB: 06-Dec-1990\n",
      "Name: Qayas Father'Name: Muhammad Mehtab Abbasi DOB: 06-Dec-1990\n"
     ]
    }
   ],
   "source": [
    "Name = \"Qayas Mehtab\"\n",
    "Father_Name = \"Muhammad Mehtab Abbasi\"\n",
    "DOB = \"06-Dec-1990\"\n",
    "print(\"Name:\", Name)\n",
    "print(\"Father,s Name :\", Father_Name)\n",
    "print(\"Date of Brithday:\", DOB)\n",
    "Name = \"Qayas\"\n",
    "Father_Name = \"Muhammad Mehtab Abbasi\"\n",
    "DOB = \"06-Dec-1990\"\n",
    "print(\"Name:\", Name, \"| Father's Name:\", Father_Name, \"| DOB:\", DOB)\n",
    "print(\"Name:\", Name, \"Father'Name:\", Father_Name, \"DOB:\", DOB)"
   ]
  },
  {
   "cell_type": "markdown",
   "id": "c9b37ab1-b1c6-4910-a04f-42c0a8c54bee",
   "metadata": {},
   "source": [
    "# Q2 Write your small bio using variables and print it using print function."
   ]
  },
  {
   "cell_type": "code",
   "execution_count": 47,
   "id": "94152d83-1d68-4b31-9048-8c7e2a243f14",
   "metadata": {},
   "outputs": [
    {
     "name": "stdout",
     "output_type": "stream",
     "text": [
      "-----My Bio-----\n",
      "Name: Qayas Mehtab\n",
      "Father's Name: Muhammad Mehtab Abbasi\n",
      "DOB: 06-Dec-1990\n",
      "Country: Pakistan\n",
      "Profession: Bykea Rider,Learning Backend Cloud data engineering \n",
      "hubby: Cricket,Treveling,and learning Devops/Cloud\n"
     ]
    }
   ],
   "source": [
    "Name = \"Qayas Mehtab\"\n",
    "Father_Name = \"Muhammad Mehtab Abbasi\"\n",
    "DOB =\"06-Dec-1990\"\n",
    "Country =\"Pakistan\"\n",
    "Profession = \"Bykea Rider,Learning Backend Cloud data engineering \"\n",
    "hubby = \"Cricket,Treveling,and learning Devops/Cloud\"\n",
    "print(\"-----My Bio-----\")\n",
    "print(\"Name:\", Name)\n",
    "print(\"Father's Name:\", Father_Name)\n",
    "print(\"DOB:\", DOB)\n",
    "print(\"Country:\", Country)\n",
    "print(\"Profession:\", Profession)\n",
    "print(\"hubby:\", hubby)"
   ]
  },
  {
   "cell_type": "markdown",
   "id": "42413b1d-73ad-4cc0-88e5-0946621a86b7",
   "metadata": {},
   "source": [
    "# Q3 Write a program in which use all the operators we can use in Python”.\n",
    "- (a) Arithmetic\n",
    "- (b) Comparison\n",
    "- (c) Assignment\n",
    "- (d) Logical\n",
    "- (e) Bitwise\n",
    "- (f) Membership\n",
    "- (g) Identity"
   ]
  },
  {
   "cell_type": "code",
   "execution_count": 152,
   "id": "2a4d2e91-e688-41f4-affb-c725e040cfcc",
   "metadata": {},
   "outputs": [
    {
     "name": "stdout",
     "output_type": "stream",
     "text": [
      "-----Arthmetic Operator-----\n",
      "Addition:  22\n",
      "Subtraction: 12\n",
      "Multiplication: 85\n",
      "Division: 3.4\n",
      "Floor Division: 3\n",
      "Modulus: 2\n",
      "Expenont: 1419857\n",
      "-----Comparsion Operator\n",
      "Equal:  False\n",
      "Not Equal: True\n",
      "Greater then: True\n",
      "Less then: False\n",
      "Greater or Equal: True\n",
      "Less or Eqal: False\n",
      "----- Assignment Operators -----\n",
      "x += 2 -> 7\n",
      "x -= 1 -> 6\n",
      "x *= 3 -> 18\n",
      "x /= 2 -> 9.0\n",
      "x //= 2 -> 4.0\n",
      "x %= 2 -> 0.0\n",
      "x **= 3 -> 0.0\n",
      "-----Logical Operator-----\n",
      "p and q -> False\n",
      "p or q -> True\n",
      "p not q -> True\n",
      "----- Bitwise Operators -----\n",
      "A & B->: 1\n",
      "A | B->: 21\n",
      "A ^ B - > 20\n",
      "A ^ B -> 20\n",
      "A << 1 -> 34\n",
      "A >> 1 -> 8\n",
      "----- Membership Operators -----\n",
      "A in List1 -> False\n",
      "B in not List1 -> True\n",
      "-----Indentity Operator-----\n",
      "A is C ->  False\n",
      "A is not B -> True\n"
     ]
    }
   ],
   "source": [
    "A = 17\n",
    "B = 5\n",
    "print(\"-----Arthmetic Operator-----\")\n",
    "print(\"Addition: \" ,A+B)             \n",
    "print(\"Subtraction:\" ,A-B)           \n",
    "print(\"Multiplication:\" ,A*B)        \n",
    "print(\"Division:\" ,A/B)              \n",
    "print(\"Floor Division:\" , A//B)      \n",
    "print(\"Modulus:\" , A%B)              \n",
    "print(\"Expenont:\" ,A**B)             \n",
    "print(\"-----Comparsion Operator\")\n",
    "print(\"Equal: \" , A==B)\n",
    "print(\"Not Equal:\" , A!=B)\n",
    "print(\"Greater then:\" , A > B)\n",
    "print(\"Less then:\" , A < B)\n",
    "print(\"Greater or Equal:\" , A >= B)\n",
    "print(\"Less or Eqal:\" , A <=B)\n",
    "print(\"----- Assignment Operators -----\")\n",
    "x = 5\n",
    "x += 2\n",
    "print(\"x += 2 ->\", x)\n",
    "x -= 1\n",
    "print(\"x -= 1 ->\", x)\n",
    "x *= 3\n",
    "print(\"x *= 3 ->\", x)\n",
    "x /= 2\n",
    "print(\"x /= 2 ->\", x)\n",
    "x //= 2\n",
    "print(\"x //= 2 ->\", x)\n",
    "x %= 2\n",
    "print(\"x %= 2 ->\", x)\n",
    "x **= 3\n",
    "print(\"x **= 3 ->\", x)\n",
    "print(\"-----Logical Operator-----\")\n",
    "p = True\n",
    "q = False\n",
    "print(\"p and q ->\", p and q)\n",
    "print(\"p or q ->\", p or q)\n",
    "print(\"p not q ->\",  not q)\n",
    "print(\"----- Bitwise Operators -----\")\n",
    "print(\"A & B->:\", A & B)\n",
    "print(\"A | B->:\", A|B)\n",
    "print(\"A ^ B - >\" , A^B)\n",
    "print(\"A ^ B ->\", A ^ B)\n",
    "print(\"A << 1 ->\", A << 1)\n",
    "print(\"A >> 1 ->\", A >> 1)\n",
    "print(\"----- Membership Operators -----\")\n",
    "List1 = [1,3,5,7,10]\n",
    "print(\"A in List1 ->\", A in List1)\n",
    "print(\"B in not List1 ->\", B in List1)\n",
    "print(\"-----Indentity Operator-----\")\n",
    "C = 60\n",
    "print(\"A is C -> \",  A is C)\n",
    "print(\"A is not B ->\", A is not B)"
   ]
  },
  {
   "cell_type": "markdown",
   "id": "567e9e7c-6370-4cd5-b492-c1ebb48225c3",
   "metadata": {},
   "source": [
    "# Q4 Calculate Percentage of Marks."
   ]
  },
  {
   "cell_type": "code",
   "execution_count": 174,
   "id": "4a66cdef-a9f2-4e8b-b910-ccef8600f8eb",
   "metadata": {},
   "outputs": [
    {
     "name": "stdout",
     "output_type": "stream",
     "text": [
      "TotalMarks: 300\n",
      "Obtained: 230\n",
      "percentage: 76.66666666666667 %\n"
     ]
    }
   ],
   "source": [
    "English = 80\n",
    "Math = 65\n",
    "Economic = 85\n",
    "TotalMarks = 300\n",
    "Obtained= English + Math + Economic\n",
    "Percentage=(Obtained/TotalMarks)*100\n",
    "print(\"TotalMarks:\" ,TotalMarks)\n",
    "print(\"Obtained:\" ,Obtained)\n",
    "print(\"percentage:\" ,percentage, \"%\")\n"
   ]
  },
  {
   "cell_type": "markdown",
   "id": "7fb4368b-bf36-4be7-b46a-53d608ec7ae9",
   "metadata": {},
   "source": [
    "# Q5 A company decided to give bonus of 5% to employee if his/her year of service is more than 5 years. Ask user for their salary and year of service and print the net bonus amount."
   ]
  },
  {
   "cell_type": "code",
   "execution_count": 176,
   "id": "2399bb3d-6f14-40c8-8ef8-f71b8b48c812",
   "metadata": {},
   "outputs": [
    {
     "name": "stdout",
     "output_type": "stream",
     "text": [
      "Bouns Amout: 2500.0\n"
     ]
    }
   ],
   "source": [
    "Salary = 50000\n",
    "years = 8\n",
    "if years >= 8:\n",
    "    bouns = Salary*0.05\n",
    "    print (\"Bouns Amout:\", bouns)\n",
    "else:\n",
    "    (\"NO Bouns\")"
   ]
  },
  {
   "cell_type": "markdown",
   "id": "0d9af2cc-2776-4d93-8865-f284a5b92643",
   "metadata": {},
   "source": [
    "# Q6 Write a program to check whether a person is eligible for voting or not. (accept age from user) if age is greater than 17 eligible otherwise not eligible."
   ]
  },
  {
   "cell_type": "code",
   "execution_count": 186,
   "id": "6d20a1d1-e218-4b37-a451-c4242185e897",
   "metadata": {},
   "outputs": [
    {
     "name": "stdin",
     "output_type": "stream",
     "text": [
      "Enter your age: 17\n"
     ]
    },
    {
     "name": "stdout",
     "output_type": "stream",
     "text": [
      "Not Eligible\n"
     ]
    }
   ],
   "source": [
    "age =int(input(\"Enter your age:\"))\n",
    "if age >17:\n",
    "    print(\"Eligible\")\n",
    "else:\n",
    "    print(\"Not Eligible\")"
   ]
  },
  {
   "cell_type": "markdown",
   "id": "47998c7e-8b1c-4c2b-8370-b5b07ade98d9",
   "metadata": {},
   "source": [
    "# Q7 Write a program to check whether a number entered by user is even or odd."
   ]
  },
  {
   "cell_type": "code",
   "execution_count": 192,
   "id": "658b269e-9cde-46fd-a349-5d9d022ef5ab",
   "metadata": {},
   "outputs": [
    {
     "name": "stdin",
     "output_type": "stream",
     "text": [
      "Enter a number: 17\n"
     ]
    },
    {
     "name": "stdout",
     "output_type": "stream",
     "text": [
      "17 is Odd\n"
     ]
    }
   ],
   "source": [
    "num = int(input(\"Enter a number:\"))\n",
    "\n",
    "if num % 2 == 0:\n",
    "    print(num, \"is Even\")\n",
    "else:\n",
    "    print(num, \"is Odd\")"
   ]
  },
  {
   "cell_type": "code",
   "execution_count": null,
   "id": "5842cb65-29a5-4465-ae86-c333963a1a73",
   "metadata": {},
   "outputs": [],
   "source": []
  }
 ],
 "metadata": {
  "kernelspec": {
   "display_name": "Python 3 (ipykernel)",
   "language": "python",
   "name": "python3"
  },
  "language_info": {
   "codemirror_mode": {
    "name": "ipython",
    "version": 3
   },
   "file_extension": ".py",
   "mimetype": "text/x-python",
   "name": "python",
   "nbconvert_exporter": "python",
   "pygments_lexer": "ipython3",
   "version": "3.13.5"
  }
 },
 "nbformat": 4,
 "nbformat_minor": 5
}
