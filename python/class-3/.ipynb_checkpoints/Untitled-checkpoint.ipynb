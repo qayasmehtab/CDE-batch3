{
 "cells": [
  {
   "cell_type": "markdown",
   "id": "e92631ae-8cbb-4aaa-9c7a-5539c77251d7",
   "metadata": {},
   "source": [
    "## User input"
   ]
  },
  {
   "cell_type": "code",
   "execution_count": 13,
   "id": "26161c36-5584-4915-b105-d3e00b2f0cd1",
   "metadata": {},
   "outputs": [
    {
     "name": "stdin",
     "output_type": "stream",
     "text": [
      "Enter your name: Qayas Mehtab\n"
     ]
    },
    {
     "name": "stdout",
     "output_type": "stream",
     "text": [
      "Qayas Mehtab\n"
     ]
    }
   ],
   "source": [
    "full_name = input(\"Enter your name:\")\n",
    "print( full_name)"
   ]
  },
  {
   "cell_type": "code",
   "execution_count": 14,
   "id": "cc6baeb2-9a2e-4034-bec9-dd1f0d3a3cb6",
   "metadata": {},
   "outputs": [
    {
     "name": "stdin",
     "output_type": "stream",
     "text": [
      "Enter your age: 35\n"
     ]
    },
    {
     "name": "stdout",
     "output_type": "stream",
     "text": [
      "35\n"
     ]
    }
   ],
   "source": [
    "age = int(input(\"Enter your age:\" ))\n",
    "print(age)"
   ]
  },
  {
   "cell_type": "markdown",
   "id": "c3e273e9-834d-4e78-97e7-78e7507b1d67",
   "metadata": {},
   "source": [
    "### Task\n",
    "- if student  percentage is Above then 90 to 100 so the will be grade \"A+\"\n",
    "- if student  percentage is Above then 80 to 89 so the will be grade \"A\"\n",
    "- if student  percentage is Above then 70 to 79 so the will be grade \"B\"\n",
    "- if student  percentage is Above then 60 to 69 so the will be grade \"C\"\n",
    "- if student  percentage is Above then 50 to 59 so the will be grade \"D\"\n",
    "- if student  percentage is Less then 50  so the will be grade \"F\"\n",
    "- but used  condition statement if,elif,else."
   ]
  },
  {
   "cell_type": "code",
   "execution_count": 16,
   "id": "68c1efd3-8e55-45b1-98d8-c58198f3d1c5",
   "metadata": {},
   "outputs": [
    {
     "name": "stdin",
     "output_type": "stream",
     "text": [
      "Enter your perecentage: 78\n"
     ]
    },
    {
     "name": "stdout",
     "output_type": "stream",
     "text": [
      "your grade is : B\n"
     ]
    }
   ],
   "source": [
    "percentage=float(input(\"Enter your perecentage:\"))\n",
    "if percentage>=90 and percentage <=100:\n",
    "    Grade = \"A+\"\n",
    "elif percentage >= 80 and percentage <89:\n",
    "    Grade =\"A\"\n",
    "elif percentage >=70 and percentage <79:\n",
    "    Grade =\"B\"\n",
    "elif percentage >=60 and percentage>69:\n",
    "    Grade=\"C\"\n",
    "elif percentage >=50 and percentage >59:\n",
    "    Grade=\"D\"\n",
    "else:\n",
    "    Grade=\"F\" \n",
    "print(f\"your grade is : {Grade}\")"
   ]
  },
  {
   "cell_type": "code",
   "execution_count": 41,
   "id": "06a2de69-0b52-44f4-952b-bfeba5211536",
   "metadata": {},
   "outputs": [
    {
     "name": "stdin",
     "output_type": "stream",
     "text": [
      "Enter your favorite fruit:  apple\n"
     ]
    },
    {
     "name": "stdout",
     "output_type": "stream",
     "text": [
      "Sorry, not available.\n"
     ]
    }
   ],
   "source": [
    "fruits = [\"apple\", \"mango\", \"cherry\", \"watermelon\"]\n",
    "favorite_fruits = [\"orange\", \"banana\", \"cherry\"]\n",
    "\n",
    "fruit = input(\"Enter your favorite fruit: \")\n",
    "\n",
    "if fruit in favorite_fruits:\n",
    "    print(\"Yes, it is available!\")\n",
    "else:\n",
    "    print(\"Sorry, not available.\")"
   ]
  },
  {
   "cell_type": "code",
   "execution_count": null,
   "id": "cda72652-69b9-443e-84d2-e17c5be8fd8b",
   "metadata": {},
   "outputs": [],
   "source": []
  }
 ],
 "metadata": {
  "kernelspec": {
   "display_name": "Python 3 (ipykernel)",
   "language": "python",
   "name": "python3"
  },
  "language_info": {
   "codemirror_mode": {
    "name": "ipython",
    "version": 3
   },
   "file_extension": ".py",
   "mimetype": "text/x-python",
   "name": "python",
   "nbconvert_exporter": "python",
   "pygments_lexer": "ipython3",
   "version": "3.13.5"
  }
 },
 "nbformat": 4,
 "nbformat_minor": 5
}
