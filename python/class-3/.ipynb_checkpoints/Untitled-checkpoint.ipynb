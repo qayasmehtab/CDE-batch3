{
 "cells": [
  {
   "cell_type": "markdown",
   "id": "e92631ae-8cbb-4aaa-9c7a-5539c77251d7",
   "metadata": {},
   "source": [
    "## User input"
   ]
  },
  {
   "cell_type": "code",
   "execution_count": 13,
   "id": "26161c36-5584-4915-b105-d3e00b2f0cd1",
   "metadata": {},
   "outputs": [
    {
     "name": "stdin",
     "output_type": "stream",
     "text": [
      "Enter your name: Qayas Mehtab\n"
     ]
    },
    {
     "name": "stdout",
     "output_type": "stream",
     "text": [
      "Qayas Mehtab\n"
     ]
    }
   ],
   "source": [
    "full_name = input(\"Enter your name:\")\n",
    "print( full_name)"
   ]
  },
  {
   "cell_type": "code",
   "execution_count": 14,
   "id": "cc6baeb2-9a2e-4034-bec9-dd1f0d3a3cb6",
   "metadata": {},
   "outputs": [
    {
     "name": "stdin",
     "output_type": "stream",
     "text": [
      "Enter your age: 35\n"
     ]
    },
    {
     "name": "stdout",
     "output_type": "stream",
     "text": [
      "35\n"
     ]
    }
   ],
   "source": [
    "age = int(input(\"Enter your age:\" ))\n",
    "print(age)"
   ]
  },
  {
   "cell_type": "markdown",
   "id": "c3e273e9-834d-4e78-97e7-78e7507b1d67",
   "metadata": {},
   "source": [
    "### Task\n",
    "- if student  percentage is Above then 90 to 100 so the will be grade \"A+\"\n",
    "- if student  percentage is Above then 80 to 89 so the will be grade \"A\"\n",
    "- if student  percentage is Above then 70 to 79 so the will be grade \"B\"\n",
    "- if student  percentage is Above then 60 to 69 so the will be grade \"C\"\n",
    "- if student  percentage is Above then 50 to 59 so the will be grade \"D\"\n",
    "- if student  percentage is Less then 50  so the will be grade \"F\"\n",
    "- but used  condition statement if,elif,else."
   ]
  },
  {
   "cell_type": "code",
   "execution_count": 16,
   "id": "68c1efd3-8e55-45b1-98d8-c58198f3d1c5",
   "metadata": {},
   "outputs": [
    {
     "name": "stdin",
     "output_type": "stream",
     "text": [
      "Enter your perecentage: 78\n"
     ]
    },
    {
     "name": "stdout",
     "output_type": "stream",
     "text": [
      "your grade is : B\n"
     ]
    }
   ],
   "source": [
    "percentage=float(input(\"Enter your perecentage:\"))\n",
    "if percentage>=90 and percentage <=100:\n",
    "    Grade = \"A+\"\n",
    "elif percentage >= 80 and percentage <89:\n",
    "    Grade =\"A\"\n",
    "elif percentage >=70 and percentage <79:\n",
    "    Grade =\"B\"\n",
    "elif percentage >=60 and percentage>69:\n",
    "    Grade=\"C\"\n",
    "elif percentage >=50 and percentage >59:\n",
    "    Grade=\"D\"\n",
    "else:\n",
    "    Grade=\"F\" \n",
    "print(f\"your grade is : {Grade}\")"
   ]
  },
  {
   "cell_type": "markdown",
   "id": "5f28473d-9935-48d5-a1b8-1b57e861bab2",
   "metadata": {},
   "source": [
    "# -------------------------------------------\n",
    "# Python Practice: Lists, Tuples & Methods\n",
    "# Author: Qayas Abbasi\n",
    "# Purpose: Demonstrate basic operations for learning\n",
    "# -------------------------------------------\n",
    "\n",
    "# --- Tuples Example ---\n",
    "fruits_tuple = (\"Apple\", \"Banana\", \"Mango\", \"Orange\")\n",
    "print(\"Tuple of fruits:\", fruits_tuple)\n",
    "print(\"First fruit:\", fruits_tuple[0])      # Indexing\n",
    "print(\"Last two fruits:\", fruits_tuple[-2:]) # Slicing\n",
    "\n",
    "# --- Lists Example ---\n",
    "fruits_list = [\"Apple\", \"Banana\", \"Mango\", \"Orange\"]\n",
    "print(\"\\nOriginal List:\", fruits_list)\n",
    "\n",
    "# Append (add new item)\n",
    "fruits_list.append(\"Grapes\")\n",
    "print(\"After Append:\", fruits_list)\n",
    "\n",
    "# Remove (delete by value)\n",
    "fruits_list.remove(\"Banana\")\n",
    "print(\"After Remove:\", fruits_list)\n",
    "\n",
    "# Pop (delete by index, default last item)\n",
    "popped_item = fruits_list.pop()\n",
    "print(\"After Pop:\", fruits_list, \"| Popped Item:\", popped_item)\n",
    "\n",
    "# Del (delete by index)\n",
    "del fruits_list[0]\n",
    "print(\"After Del (index 0 removed):\", fruits_list)\n",
    "\n",
    "# Slicing example\n",
    "print(\"Sliced List (first 2 items):\", fruits_list[:2])\n",
    "\n",
    "# --- Final State ---\n",
    "print(\"\\nFinal List:\", fruits_list)\n",
    "print(\"Tuple remains unchanged (immutable):\", fruits_tuple)\n"
   ]
  },
  {
   "cell_type": "code",
   "execution_count": 11,
   "id": "e172200a-16bd-4452-966a-648a1f3c9595",
   "metadata": {},
   "outputs": [
    {
     "name": "stdout",
     "output_type": "stream",
     "text": [
      "Fruits List: [['apple', 'mango'], ['cherry', 'banana'], [1, 2, 3]]\n",
      "Single Item: banana\n",
      "mango: 3\n"
     ]
    }
   ],
   "source": [
    "fruit_list = [[\"apple\", \"mango\"], [\"cherry\", \"banana\"], [1, 2, 3]]\n",
    "\n",
    "print(\"Fruits List:\", fruit_list)             \n",
    "print(\"Single Item:\", fruit_list[1][1])       \n",
    "print(\"mango:\", fruit_list[2][2])           "
   ]
  },
  {
   "cell_type": "code",
   "execution_count": 17,
   "id": "d9b51163-c030-4b5d-b1e2-3096efa401bb",
   "metadata": {},
   "outputs": [
    {
     "name": "stdin",
     "output_type": "stream",
     "text": [
      "Enter your gender (male/female):  male\n",
      "Enter your qualification:  intermediate\n"
     ]
    },
    {
     "name": "stdout",
     "output_type": "stream",
     "text": [
      "Congratulations, you are eligible.\n"
     ]
    }
   ],
   "source": [
    "gender = input(\"Enter your gender (male/female): \")\n",
    "\n",
    "if gender == \"male\":\n",
    "    qualification = input(\"Enter your qualification: \")   \n",
    "    if qualification == \"intermediate\":                   \n",
    "        print(\"Congratulations, you are eligible.\")\n",
    "    else:\n",
    "        print(\"Sorry, you are not eligible.\")\n",
    "else:\n",
    "    print(\"Sorry, you are not eligible.\")"
   ]
  }
 ],
 "metadata": {
  "kernelspec": {
   "display_name": "Python 3 (ipykernel)",
   "language": "python",
   "name": "python3"
  },
  "language_info": {
   "codemirror_mode": {
    "name": "ipython",
    "version": 3
   },
   "file_extension": ".py",
   "mimetype": "text/x-python",
   "name": "python",
   "nbconvert_exporter": "python",
   "pygments_lexer": "ipython3",
   "version": "3.13.5"
  }
 },
 "nbformat": 4,
 "nbformat_minor": 5
}
