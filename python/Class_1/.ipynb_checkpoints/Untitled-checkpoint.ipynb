{
 "cells": [
  {
   "cell_type": "markdown",
   "id": "d9a06770-0c2a-4fdc-9753-41f5788bf2c4",
   "metadata": {},
   "source": [
    "# shortcuts of  jupyter notebook \n",
    "#### Command Mode (Press Esc to enter)\n",
    "\n",
    "- Esc + A → Insert a new cell above\n",
    "\n",
    "- Esc + B → Insert a new cell below\n",
    "\n",
    "- Esc + D, D → Delete the selected cell (press D twice)\n",
    "\n",
    "- Esc + Z → Undo the last cell deletion\n",
    "\n",
    "- Esc + X → Cut the selected cell\n",
    "\n",
    "- Esc + C → Copy the selected cell\n",
    "\n",
    "- Esc + V → Paste cell below\n",
    "\n",
    "- Esc + Shift + V → Paste cell above\n",
    "\n",
    "- Esc + M → Change cell to Markdown\n",
    "\n",
    "- Esc + Y → Change cell to Code\n",
    "\n",
    "- Esc + 1–6 → Change cell to Heading 1–6 (Markdown mode\n",
    "2.Edit Mode (Press Enter to enter)\n",
    "\n",
    "- Ctrl + Enter → Run the selected cell\n",
    "\n",
    "- Shift + Enter → Run cell and move to the next cell\n",
    "\n",
    "- Alt + Enter → Run cell and insert a new cell below\n",
    "\n",
    "- Tab → Code completion / suggestions\n",
    "\n",
    "- Shift + Tab → Show tooltip/documentation for function/method\n",
    "\n",
    "- Ctrl + / → Comment or uncomment selected code\n",
    "\n",
    "3. General\n",
    "\n",
    "- Esc → Enter Command Mode\n",
    "\n",
    "- Enter → Enter Edit Mode\n",
    "\n",
    "- H → Show all keyboard shortcuts"
   ]
  },
  {
   "cell_type": "code",
   "execution_count": null,
   "id": "b24040ea-f362-4158-b40c-f5a09891d09e",
   "metadata": {},
   "outputs": [],
   "source": []
  },
  {
   "cell_type": "code",
   "execution_count": null,
   "id": "6876b3bf-d8ac-4a47-9ddd-aac880db3c50",
   "metadata": {},
   "outputs": [],
   "source": []
  }
 ],
 "metadata": {
  "kernelspec": {
   "display_name": "Python 3 (ipykernel)",
   "language": "python",
   "name": "python3"
  },
  "language_info": {
   "codemirror_mode": {
    "name": "ipython",
    "version": 3
   },
   "file_extension": ".py",
   "mimetype": "text/x-python",
   "name": "python",
   "nbconvert_exporter": "python",
   "pygments_lexer": "ipython3",
   "version": "3.13.5"
  }
 },
 "nbformat": 4,
 "nbformat_minor": 5
}
